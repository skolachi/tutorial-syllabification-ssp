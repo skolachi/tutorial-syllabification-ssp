{
 "cells": [
  {
   "cell_type": "code",
   "execution_count": 1,
   "id": "4e0c690d",
   "metadata": {},
   "outputs": [
    {
     "data": {
      "text/plain": [
       "135155"
      ]
     },
     "execution_count": 1,
     "metadata": {},
     "output_type": "execute_result"
    }
   ],
   "source": [
    "# Step 1: Read in the CMU dictionary and extract the phones and vowels and consonants\n",
    "cmudict = [f.strip().split('#')[0].split() for f in open('cmudict.dict')]\n",
    "len(cmudict)"
   ]
  },
  {
   "cell_type": "code",
   "execution_count": 2,
   "id": "6b01f55a",
   "metadata": {},
   "outputs": [
    {
     "name": "stdout",
     "output_type": "stream",
     "text": [
      "69\n"
     ]
    }
   ],
   "source": [
    "phones = set([p for w in cmudict for p in w[1:]])\n",
    "print(len(phones))"
   ]
  },
  {
   "cell_type": "code",
   "execution_count": 3,
   "id": "4e1511af",
   "metadata": {},
   "outputs": [
    {
     "name": "stdout",
     "output_type": "stream",
     "text": [
      "45 24\n"
     ]
    }
   ],
   "source": [
    "vowels = [p for p in phones if p[0] in ['A','E','I','O','U']]\n",
    "consonants = phones - set(vowels)\n",
    "print(len(vowels),len(consonants))"
   ]
  },
  {
   "cell_type": "code",
   "execution_count": 4,
   "id": "51dba030",
   "metadata": {},
   "outputs": [
    {
     "name": "stdout",
     "output_type": "stream",
     "text": [
      "['EY0', 'IY0', 'AY1', 'AW1', 'EH0', 'EH2', 'AE2', 'AO1', 'IH1', 'EY1', 'IH2', 'AA1', 'AA0', 'AW2', 'OW1', 'UW2', 'IY1', 'ER1', 'EY2', 'IH0', 'AE1', 'UH1', 'OW0', 'AE0', 'AY0', 'OY1', 'EH1', 'UH2', 'AH0', 'OY0', 'ER0', 'OW2', 'UH0', 'UW1', 'AW0', 'AH2', 'AO2', 'OY2', 'ER2', 'AY2', 'UW0', 'AH1', 'AA2', 'IY2', 'AO0']\n"
     ]
    }
   ],
   "source": [
    "print(vowels)"
   ]
  },
  {
   "cell_type": "code",
   "execution_count": 5,
   "id": "fc226f64",
   "metadata": {},
   "outputs": [
    {
     "name": "stdout",
     "output_type": "stream",
     "text": [
      "{'DH', 'L', 'R', 'CH', 'ZH', 'JH', 'D', 'S', 'W', 'M', 'NG', 'Y', 'K', 'F', 'HH', 'P', 'TH', 'N', 'G', 'B', 'SH', 'Z', 'T', 'V'}\n"
     ]
    }
   ],
   "source": [
    "print(consonants)"
   ]
  },
  {
   "cell_type": "code",
   "execution_count": 6,
   "id": "9183ed66",
   "metadata": {},
   "outputs": [],
   "source": [
    "# Step 2: Sonority Sequencing Principle - Sonority peaks at syllable nuclei and troughs at syllable boundaries \n",
    "# Syllable boundaries are points of lowest sonority between vowels\n",
    "# Sonority hierarchy - vowels > glides > laterals > nasals > voiced fricatives > voiced affricate > voiced stop > voiceless fricative > voiceless affricate > voiceless stop"
   ]
  },
  {
   "cell_type": "code",
   "execution_count": 7,
   "id": "3bbeff63",
   "metadata": {},
   "outputs": [
    {
     "name": "stdout",
     "output_type": "stream",
     "text": [
      "{'DH': 22, 'R': 26, 'CH': 14, 'EY0': 30, 'IY0': 30, 'ZH': 22, 'AY1': 30, 'JH': 20, 'AW1': 30, 'EH0': 30, 'EH2': 30, 'D': 18, 'AE2': 30, 'AO1': 30, 'IH1': 30, 'S': 16, 'EY1': 30, 'W': 28, 'IH2': 30, 'AA1': 30, 'AA0': 30, 'M': 24, 'NG': 24, 'AW2': 30, 'OW1': 30, 'UW2': 30, 'IY1': 30, 'ER1': 30, 'Y': 28, 'EY2': 30, 'IH0': 30, 'AE1': 30, 'UH1': 30, 'OW0': 30, 'K': 12, 'AE0': 30, 'F': 16, 'AY0': 30, 'OY1': 30, 'EH1': 30, 'UH2': 30, 'AH0': 30, 'HH': 22, 'OY0': 30, 'P': 12, 'ER0': 30, 'TH': 16, 'OW2': 30, 'UH0': 30, 'N': 24, 'G': 18, 'B': 18, 'UW1': 30, 'V': 22, 'SH': 16, 'AW0': 30, 'AH2': 30, 'AO2': 30, 'OY2': 30, 'Z': 22, 'ER2': 30, 'AY2': 30, 'UW0': 30, 'T': 12, 'AH1': 30, 'L': 26, 'AA2': 30, 'IY2': 30, 'AO0': 30}\n"
     ]
    }
   ],
   "source": [
    "# Weights to reflect sonority hierarchy\n",
    "sonority = {}\n",
    "for p in phones:\n",
    "    if p in vowels:\n",
    "        sonority[p] = 30\n",
    "    elif p in ['Y','W']:\n",
    "        sonority[p] = 28\n",
    "    elif p in ['R','L']:\n",
    "        sonority[p] = 26\n",
    "    elif p in ['N','M','NG']:\n",
    "        sonority[p] = 24\n",
    "    elif p in ['Z','ZH','V','DH','HH']:\n",
    "        sonority[p] = 22\n",
    "    elif p in ['JH']:\n",
    "        sonority[p] = 20\n",
    "    elif p in ['B','D','G']:\n",
    "        sonority[p] = 18\n",
    "    elif p in ['S','SH','F','TH']:\n",
    "        sonority[p] = 16\n",
    "    elif p in ['CH']:\n",
    "        sonority[p] = 14\n",
    "    elif p in ['P','T','K']:\n",
    "        sonority[p] = 12\n",
    "    else:\n",
    "        sonority[p] = 0\n",
    "        \n",
    "print(sonority)"
   ]
  },
  {
   "cell_type": "code",
   "execution_count": 8,
   "id": "c3a25265",
   "metadata": {},
   "outputs": [
    {
     "data": {
      "text/plain": [
       "False"
      ]
     },
     "execution_count": 8,
     "metadata": {},
     "output_type": "execute_result"
    }
   ],
   "source": [
    "#Check if any phone was not assigned a sonority value\n",
    "0 in sonority.values()"
   ]
  },
  {
   "cell_type": "code",
   "execution_count": 9,
   "id": "6e7b90b7",
   "metadata": {},
   "outputs": [],
   "source": [
    "# Step 3: Implement the syllable parser \n",
    "# Logic - Left-to-right parsing\n",
    "# if sonority of next phone is higher than sonority of current phone, introduce syllable break if it creates valid syllable\n",
    "# What's a valid syllable - must contain a nucleus (vowel)"
   ]
  },
  {
   "cell_type": "code",
   "execution_count": 10,
   "id": "9aac8cb0",
   "metadata": {},
   "outputs": [],
   "source": [
    "# Function to check if sequence of phones form a syllable\n",
    "def is_syll(temp):\n",
    "    for p in temp:\n",
    "        if p in vowels:\n",
    "            return True\n",
    "    return False"
   ]
  },
  {
   "cell_type": "code",
   "execution_count": 13,
   "id": "dae9c8ff",
   "metadata": {},
   "outputs": [],
   "source": [
    "# parser function based on Sonority Sequencing Principle\n",
    "def syllable_parser(trans):\n",
    "    syll = []\n",
    "    temp = []\n",
    "    for i in range(len(trans)):\n",
    "        if i < len(trans) - 1 and sonority[trans[i]] < sonority[trans[i+1]]:\n",
    "            if is_syll(temp):\n",
    "                syll.append(temp)\n",
    "                temp = []\n",
    "        temp.append(trans[i])\n",
    "    if temp != []:\n",
    "        syll.append(temp)\n",
    "    \n",
    "    return syll  "
   ]
  },
  {
   "cell_type": "code",
   "execution_count": 14,
   "id": "53b8d464",
   "metadata": {},
   "outputs": [
    {
     "name": "stdout",
     "output_type": "stream",
     "text": [
      "[['education', 'EH2', 'JH', 'AH0', 'K', 'EY1', 'SH', 'AH0', 'N'], ['entertain', 'EH2', 'N', 'T', 'ER0', 'T', 'EY1', 'N'], ['extension', 'IH0', 'K', 'S', 'T', 'EH1', 'N', 'SH', 'AH0', 'N'], ['information', 'IH2', 'N', 'F', 'ER0', 'M', 'EY1', 'SH', 'AH0', 'N'], ['oscillate', 'AA1', 'S', 'AH0', 'L', 'EY2', 'T'], ['pretend', 'P', 'R', 'IY0', 'T', 'EH1', 'N', 'D'], ['report', 'R', 'IY0', 'P', 'AO1', 'R', 'T'], ['sing', 'S', 'IH1', 'NG'], ['sprain', 'S', 'P', 'R', 'EY1', 'N'], ['string', 'S', 'T', 'R', 'IH1', 'NG']]\n"
     ]
    }
   ],
   "source": [
    "words = ['sing','sprain','string','pretend','report','entertain','oscillate','extension','information','education']\n",
    "dev_set = [c for c in cmudict if c[0] in words]\n",
    "print(dev_set)"
   ]
  },
  {
   "cell_type": "code",
   "execution_count": 15,
   "id": "834787de",
   "metadata": {},
   "outputs": [
    {
     "name": "stdout",
     "output_type": "stream",
     "text": [
      "Syllabification for education : [['EH2'], ['JH', 'AH0'], ['K', 'EY1'], ['SH', 'AH0', 'N']]\n",
      "Syllabification for entertain : [['EH2', 'N'], ['T', 'ER0'], ['T', 'EY1', 'N']]\n",
      "Syllabification for extension : [['IH0'], ['K', 'S', 'T', 'EH1', 'N'], ['SH', 'AH0', 'N']]\n",
      "Syllabification for information : [['IH2', 'N'], ['F', 'ER0'], ['M', 'EY1'], ['SH', 'AH0', 'N']]\n",
      "Syllabification for oscillate : [['AA1'], ['S', 'AH0'], ['L', 'EY2', 'T']]\n",
      "Syllabification for pretend : [['P', 'R', 'IY0'], ['T', 'EH1', 'N', 'D']]\n",
      "Syllabification for report : [['R', 'IY0'], ['P', 'AO1', 'R', 'T']]\n",
      "Syllabification for sing : [['S', 'IH1', 'NG']]\n",
      "Syllabification for sprain : [['S', 'P', 'R', 'EY1', 'N']]\n",
      "Syllabification for string : [['S', 'T', 'R', 'IH1', 'NG']]\n"
     ]
    }
   ],
   "source": [
    "for d in dev_set:\n",
    "    print('Syllabification for %s : %s'%(d[0], syllable_parser(d[1:])))"
   ]
  },
  {
   "cell_type": "code",
   "execution_count": null,
   "id": "eff8b349",
   "metadata": {},
   "outputs": [],
   "source": []
  }
 ],
 "metadata": {
  "kernelspec": {
   "display_name": "Python 3 (ipykernel)",
   "language": "python",
   "name": "python3"
  },
  "language_info": {
   "codemirror_mode": {
    "name": "ipython",
    "version": 3
   },
   "file_extension": ".py",
   "mimetype": "text/x-python",
   "name": "python",
   "nbconvert_exporter": "python",
   "pygments_lexer": "ipython3",
   "version": "3.8.10"
  }
 },
 "nbformat": 4,
 "nbformat_minor": 5
}
